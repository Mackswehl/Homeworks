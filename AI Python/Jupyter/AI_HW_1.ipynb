{
  "nbformat": 4,
  "nbformat_minor": 0,
  "metadata": {
    "colab": {
      "name": "AI-HW-1.ipynb",
      "version": "0.3.2",
      "provenance": [],
      "collapsed_sections": []
    },
    "kernelspec": {
      "display_name": "Python 3",
      "language": "python",
      "name": "python3"
    }
  },
  "cells": [
    {
      "metadata": {
        "id": "hatHqL8FIPvr",
        "colab_type": "text"
      },
      "cell_type": "markdown",
      "source": [
        "## Let's do some timing work ##\n",
        "First, create the function _RandListSet(n)_ that returns two things: a list of **n** unique integers in random order, and a set of the same integers.  You might look at the method: _random.shuffle()_ although there are other ways to do this.\n",
        "\n"
      ]
    },
    {
      "metadata": {
        "id": "NNc7uuXWIPvs",
        "colab_type": "code",
        "colab": {
          "base_uri": "https://localhost:8080/",
          "height": 34
        },
        "outputId": "37ff8e4a-4004-43a5-dc54-1c03c0027c3b"
      },
      "cell_type": "code",
      "source": [
        "import random\n",
        "\n",
        "def RandListSet(n):\n",
        "    # your perfect code...\n",
        "    randList = []\n",
        "    for i in range(1,n+1):\n",
        "      randList.append(i) # Adding numbers 1 through n+1 to both the list and the set\n",
        "    random.shuffle(randList) # Randomizing the order of the elements in the list\n",
        "    nSet = set(randList)\n",
        "    return [randList, nSet]\n",
        "    pass\n",
        "  \n",
        "RandListSet(10)"
      ],
      "execution_count": 41,
      "outputs": [
        {
          "output_type": "execute_result",
          "data": {
            "text/plain": [
              "[[6, 9, 1, 10, 7, 4, 8, 3, 5, 2], {1, 2, 3, 4, 5, 6, 7, 8, 9, 10}]"
            ]
          },
          "metadata": {
            "tags": []
          },
          "execution_count": 41
        }
      ]
    },
    {
      "metadata": {
        "id": "wFlcDPN8IPvw",
        "colab_type": "text"
      },
      "cell_type": "markdown",
      "source": [
        "...by the way, the _pass_ statement above is a null-statement in Python, and is useful when a statement is required but you don't want it to do anything.\n",
        "\n",
        "Now create the function _TimeIt(n)_ that executes _RandListSet(n)_ and returns 3 things: the list, the set, and the amount of time, in seconds, it took to do that.  Look at the _time_ library's _time()_ method."
      ]
    },
    {
      "metadata": {
        "id": "V5nNZ_okIPvx",
        "colab_type": "code",
        "colab": {
          "base_uri": "https://localhost:8080/",
          "height": 204
        },
        "outputId": "ebbde259-2d29-4524-816f-7e734e1f2c93"
      },
      "cell_type": "code",
      "source": [
        "import time\n",
        "\n",
        "def TimeIt(n):\n",
        "    # your timely code...\n",
        "    startTime = time.time() # Recording the current time before method runs\n",
        "    print (RandListSet(n))\n",
        "    endTime = time.time() # Recording the current time after the method runs\n",
        "    \n",
        "    elapsedTime = endTime - startTime # Finding the difference between start and end gives runtime\n",
        "    \n",
        "    return elapsedTime\n",
        "    pass\n",
        "  \n",
        "TimeIt(1000000)"
      ],
      "execution_count": 43,
      "outputs": [
        {
          "output_type": "stream",
          "text": [
            "IOPub data rate exceeded.\n",
            "The notebook server will temporarily stop sending output\n",
            "to the client in order to avoid crashing it.\n",
            "To change this limit, set the config variable\n",
            "`--NotebookApp.iopub_data_rate_limit`.\n",
            "\n",
            "Current values:\n",
            "NotebookApp.iopub_data_rate_limit=1000000.0 (bytes/sec)\n",
            "NotebookApp.rate_limit_window=3.0 (secs)\n",
            "\n"
          ],
          "name": "stderr"
        },
        {
          "output_type": "execute_result",
          "data": {
            "text/plain": [
              "1.980360984802246"
            ]
          },
          "metadata": {
            "tags": []
          },
          "execution_count": 43
        }
      ]
    },
    {
      "metadata": {
        "id": "ubT3LHM8IPv0",
        "colab_type": "text"
      },
      "cell_type": "markdown",
      "source": [
        "All right... We'd like to create a list and set of **n** unique integers each (as above), that takes a certain amount of time to produce.  In other words, suppose we chose a time of 0.5 seconds: now how large should **n** be such that it takes about 0.5 seconds for _RandListSet(n)_ to run?  This, of course, is dependent upon many things: principally, the speed of your computer, but also the version of Python you're using, the particular algorithm inside _RandListSet()_, your shoe size, etc. Therefore, you can't just try _TimeIt(n)_ over and over, by hand, until you're in the ballpark of the chosen execution time.\n",
        "\n",
        "OK, so now let's try our hands (actually, _your_ hands) at a small but non-trivial algorithm...\n",
        "\n",
        "Create the function _FindN(TargetTime,Accuracy)_ that will **algorithmically** find the right value of **n** so that it takes approximately _TargetTime_ seconds for _RandListSet(n)_ to run.  The _Accuracy_ parameter deals with the approximation -- it indicates what fraction of _TargetTime_ you are allowed to be different (that was badly explained).  Here's an example: _FindN(2.0,0.1)_ means finding **n** so that _RandListSet(n)_ takes about 2 seconds plus-or-minus 10% -- in other words, between 1.8 and 2.2 seconds.\n",
        "\n",
        "Assume that _TargetTime_ will be somewhere in the range: 0.1 to 1.5 seconds, and _Accuracy_ in the range 0.05 and 0.2.  Try to make sure that _FindN()_ doesn't run for more than, say, 10 seconds."
      ]
    },
    {
      "metadata": {
        "id": "-4l8_Y3zIPv0",
        "colab_type": "code",
        "colab": {
          "base_uri": "https://localhost:8080/",
          "height": 204
        },
        "outputId": "920aba5c-1ec3-47b1-fcea-142d0c5addfc"
      },
      "cell_type": "code",
      "source": [
        "def FindN(TargetTime,Accuracy):\n",
        "    # your precise code...\n",
        "    \n",
        "    # Starting with some size\n",
        "    size = 500000\n",
        "    currentTime = TimeIt(size)\n",
        "    # Acceptable bounds for the answer\n",
        "    lower = TargetTime - (TargetTime * Accuracy)\n",
        "    upper = TargetTime + (TargetTime * Accuracy)\n",
        "    \n",
        "    while currentTime < lower or currentTime > upper:\n",
        "      if currentTime < lower:\n",
        "        # Use the ratio of the nearest bound to the current time to approximate how much to change the current size by \n",
        "        size *= (lower/currentTime)\n",
        "      else:\n",
        "        size *= (upper/currentTime)\n",
        "      currentTime = TimeIt(int(size)) # Need to change size back into an integer to use the other methods\n",
        "    return int(size)\n",
        "    pass\n",
        "  \n",
        "FindN(1.5,0.05)"
      ],
      "execution_count": 40,
      "outputs": [
        {
          "output_type": "stream",
          "text": [
            "IOPub data rate exceeded.\n",
            "The notebook server will temporarily stop sending output\n",
            "to the client in order to avoid crashing it.\n",
            "To change this limit, set the config variable\n",
            "`--NotebookApp.iopub_data_rate_limit`.\n",
            "\n",
            "Current values:\n",
            "NotebookApp.iopub_data_rate_limit=1000000.0 (bytes/sec)\n",
            "NotebookApp.rate_limit_window=3.0 (secs)\n",
            "\n"
          ],
          "name": "stderr"
        },
        {
          "output_type": "execute_result",
          "data": {
            "text/plain": [
              "723652"
            ]
          },
          "metadata": {
            "tags": []
          },
          "execution_count": 40
        }
      ]
    },
    {
      "metadata": {
        "id": "PsdGMKoKIPv3",
        "colab_type": "text"
      },
      "cell_type": "markdown",
      "source": [
        "While the primary point of this exercise was creating the _FindN()_ function, we can use the list and set produced to compare the speed with which Python can look up elements inside lists and inside sets.  Suppose we wanted to know whether a particular integer is inside a list. How long would Python take to answer that Boolean question?  What if we asked the same question of a set?  We'd expect Python to answer faster for a set than for a list.  Is that true?\n",
        "\n",
        "Use _FindN(1.0,0.1)_ to choose a list/set size (**n**).  Create a list and a set of size **n** using _RandListSet(n)_.  Create the function _Lookup(lst,st,m)_ that will be given that list and set that will report on 4 different times.\n",
        "\n",
        "1. do the following **m** times: choose a random integer that you know is in the list, and ask the list if it's there (you don't care where in the list it is, just whether it's in the list).\n",
        "2. do the following **m** times: choose a random integer that you know is in the set, and ask the set if it's there.\n",
        "3. do the following **m** times: choose an integer that you know is **not** in the list, and ask the list if it's there.\n",
        "4. do the following **m** times: choose an integer that you know is **not** in the set, and ask the set if it's there.\n",
        "\n",
        "Calculate the time to do each of the 4 processes, and report those 4 numbers. We want to see how much faster the set's lookup is.  You may have to choose a large m so that the times you get back for the set operations are larger than 0.\n",
        "\n"
      ]
    },
    {
      "metadata": {
        "id": "YmCOAnFoIPv4",
        "colab_type": "code",
        "colab": {
          "base_uri": "https://localhost:8080/",
          "height": 255
        },
        "outputId": "fe58ae31-0140-4a55-c2db-dfaa2f063863"
      },
      "cell_type": "code",
      "source": [
        "def Lookup(lst,st,m):\n",
        "    # your final code...\n",
        "    inList = 0\n",
        "    inSet = 0\n",
        "    notList = 0\n",
        "    notSet = 0\n",
        "    \n",
        "    for i in range(m):\n",
        "      inThere = random.randint(1,len(lst) + 1) # Generating a random integer that is in the list and the set\n",
        "      notInThere = random.randint(-1*len(lst),0) # Generating a random integer that is not in the list or the set\n",
        "      \n",
        "      # Adding amount of time it takes to find (or not find) the integer and adding it to the total\n",
        "      inListStart = time.time()\n",
        "      inThere in lst\n",
        "      inListEnd = time.time()\n",
        "      inList += inListEnd - inListStart\n",
        "      \n",
        "      inSetStart = time.time()\n",
        "      inThere in st\n",
        "      inSetEnd = time.time()\n",
        "      inSet += inSetEnd - inSetStart\n",
        "      \n",
        "      notListStart = time.time()\n",
        "      notInThere in lst\n",
        "      notListEnd = time.time()\n",
        "      notList += notListEnd - notListStart\n",
        "      \n",
        "      notSetStart = time.time()\n",
        "      notInThere in st\n",
        "      notSetEnd = time.time()\n",
        "      notSet += notSetEnd - notSetStart\n",
        "    \n",
        "    print (\"Inside List:\", inList/m)\n",
        "    print (\"Inside Set:\", inSet/m)\n",
        "    print (\"Not Inside List:\", notList/m)\n",
        "    print (\"Not Inside Set:\", notSet/m)\n",
        "    pass\n",
        "  \n",
        "testSize = FindN(1.0, 0.1)\n",
        "Lookup((RandListSet(testSize))[0], (RandListSet(testSize))[1], 500)"
      ],
      "execution_count": 47,
      "outputs": [
        {
          "output_type": "stream",
          "text": [
            "IOPub data rate exceeded.\n",
            "The notebook server will temporarily stop sending output\n",
            "to the client in order to avoid crashing it.\n",
            "To change this limit, set the config variable\n",
            "`--NotebookApp.iopub_data_rate_limit`.\n",
            "\n",
            "Current values:\n",
            "NotebookApp.iopub_data_rate_limit=1000000.0 (bytes/sec)\n",
            "NotebookApp.rate_limit_window=3.0 (secs)\n",
            "\n"
          ],
          "name": "stderr"
        },
        {
          "output_type": "stream",
          "text": [
            "Inside List: 0.03401341247558594\n",
            "Inside Set: 1.9359588623046873e-06\n",
            "Not Inside List: 0.037887468338012695\n",
            "Not Inside Set: 1.7852783203125e-06\n"
          ],
          "name": "stdout"
        }
      ]
    }
  ]
}